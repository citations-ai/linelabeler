{
 "cells": [
  {
   "cell_type": "code",
   "execution_count": 54,
   "metadata": {},
   "outputs": [],
   "source": [
    "import io\n",
    "from reportlab.pdfgen import canvas\n",
    "from PyPDF2 import PdfFileWriter, PdfFileReader\n",
    "\n",
    "\n",
    "def draw_rectaingle(x_l, x_r, y_b, y_t, input_file_name, final=True, output_file_name=None, page_number=0):\n",
    "    c = canvas.Canvas('watermark.pdf')\n",
    "    c.setStrokeColorRGB(0.2, 0.5, 0.3)\n",
    "    c.rect(x_l, y_b, x_r - x_l, y_t - y_b, stroke=1, fill=0)\n",
    "    c.save()\n",
    "    \n",
    "    watermark = PdfFileReader(open(\"watermark.pdf\", \"rb\"))\n",
    "    \n",
    "    output_file = PdfFileWriter()\n",
    "    input_file = PdfFileReader(open(input_file_name, \"rb\"))\n",
    "\n",
    "    input_page = input_file.getPage(page_number)\n",
    "    input_page.mergePage(watermark.getPage(0))\n",
    "    output_file.addPage(input_page)\n",
    "    \n",
    "    with open(output_file_name, \"wb\") as o:\n",
    "        output_file.write(o)\n",
    "    \n",
    "    if not final:\n",
    "        return output_file"
   ]
  },
  {
   "cell_type": "code",
   "execution_count": 56,
   "metadata": {},
   "outputs": [],
   "source": [
    "# draw_rectaingle(210, 150, 610, 450, input_file_name='55.pdf', output_file_name='55_wm.pdf')"
   ]
  },
  {
   "cell_type": "code",
   "execution_count": null,
   "metadata": {},
   "outputs": [],
   "source": []
  }
 ],
 "metadata": {
  "kernelspec": {
   "display_name": "Python 3",
   "language": "python",
   "name": "python3"
  },
  "language_info": {
   "codemirror_mode": {
    "name": "ipython",
    "version": 3
   },
   "file_extension": ".py",
   "mimetype": "text/x-python",
   "name": "python",
   "nbconvert_exporter": "python",
   "pygments_lexer": "ipython3",
   "version": "3.7.1"
  }
 },
 "nbformat": 4,
 "nbformat_minor": 2
}
