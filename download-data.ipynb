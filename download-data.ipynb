{
 "cells": [
  {
   "cell_type": "code",
   "execution_count": null,
   "metadata": {},
   "outputs": [],
   "source": [
    "from urllib.request import urlopen\n",
    "from html.parser import HTMLParser\n",
    "import os\n",
    "import wget"
   ]
  },
  {
   "cell_type": "code",
   "execution_count": null,
   "metadata": {},
   "outputs": [],
   "source": [
    "class MyHTMLParser(HTMLParser):\n",
    "    def __init__(self, predicate):\n",
    "        super().__init__()\n",
    "        self.journals = []\n",
    "        self.state = False\n",
    "        self.predicate = predicate\n",
    "        \n",
    "    def handle_starttag(self, tag, attrs):\n",
    "        self.state = tag == 'a'\n",
    "        \n",
    "    def handle_data(self, data):\n",
    "        text = data.strip()\n",
    "        if self.state and len(text) > 0 and self.predicate(text):\n",
    "            self.journals.append(data)\n",
    "\n",
    "class PDFHTMLParser(HTMLParser):\n",
    "    def __init__(self, predicate):\n",
    "        super().__init__()\n",
    "        self.journals = []\n",
    "        self.predicate = predicate\n",
    "        \n",
    "    def handle_data(self, data):\n",
    "        text = data.strip()\n",
    "        if self.predicate(text):\n",
    "            self.journals.append(data)"
   ]
  },
  {
   "cell_type": "markdown",
   "metadata": {},
   "source": [
    "# Выгружение всех журналов"
   ]
  },
  {
   "cell_type": "code",
   "execution_count": null,
   "metadata": {},
   "outputs": [],
   "source": [
    "url_root = \"https://socionet.ru/~cyrcitec/j-neicon/\"\n",
    "html_root = urlopen(url_root).read().decode()\n",
    "\n",
    "journals_catalogue = MyHTMLParser(lambda x: x.endswith('/'))\n",
    "journals_catalogue.feed(html_root)"
   ]
  },
  {
   "cell_type": "code",
   "execution_count": null,
   "metadata": {},
   "outputs": [],
   "source": [
    "len(journals_catalogue.journals)"
   ]
  },
  {
   "cell_type": "markdown",
   "metadata": {},
   "source": [
    "# Из каждого журнала выбираем статью (например, первую) и ищем для нее PDF"
   ]
  },
  {
   "cell_type": "code",
   "execution_count": null,
   "metadata": {},
   "outputs": [],
   "source": [
    "try:\n",
    "    os.mkdir('originals')\n",
    "except:\n",
    "    pass"
   ]
  },
  {
   "cell_type": "code",
   "execution_count": null,
   "metadata": {},
   "outputs": [],
   "source": [
    "for journal in journals_catalogue.journals:\n",
    "    html_journal = urlopen(''.join([url_root, journal])).read().decode()\n",
    "    journal_catalogue = MyHTMLParser(lambda x: x.endswith('.json'))\n",
    "    journal_catalogue.feed(html_journal)\n",
    "    \n",
    "    try:\n",
    "        os.mkdir(f'originals/{journal[:-1]}')\n",
    "    except:\n",
    "        pass\n",
    "    \n",
    "    counter = 0\n",
    "    for paper_name in journal_catalogue.journals:\n",
    "        counter += 1\n",
    "        paper_txt = '/'.join(['http://no-xml.socionet.ru/~cyrcitec/jfmt.cgi?file=j-neicon', \n",
    "                              journal[:-1], paper_name])\n",
    "        print(paper_txt)\n",
    "        wget.download(paper_txt, out=f'originals/{journal[:-1]}/{paper_name[:-5]}.txt')\n",
    "        \n",
    "        paper_code = ':'.join([\"spz\", \"neicon\", journal[:-1], paper_name[:-5]])\n",
    "        \n",
    "        url_pdf_page = ''.join([\"https://socionet.ru/publication.xml?h=\", paper_code])\n",
    "        \n",
    "        html_pdf = urlopen(url_pdf_page).read().decode()\n",
    "        pdf_links = PDFHTMLParser(lambda x: x.endswith('.pdf'))\n",
    "        pdf_links.feed(html_pdf)\n",
    "        \n",
    "        try:\n",
    "            wget.download(pdf_links.journals[-1], out=f'originals/{journal[:-1]}/{paper_name[:-5]}.pdf')\n",
    "        except:\n",
    "            pass\n",
    "        \n",
    "        if counter > 0:\n",
    "            break"
   ]
  }
 ],
 "metadata": {
  "kernelspec": {
   "display_name": "Python 3",
   "language": "python",
   "name": "python3"
  },
  "language_info": {
   "codemirror_mode": {
    "name": "ipython",
    "version": 3
   },
   "file_extension": ".py",
   "mimetype": "text/x-python",
   "name": "python",
   "nbconvert_exporter": "python",
   "pygments_lexer": "ipython3",
   "version": "3.7.1"
  }
 },
 "nbformat": 4,
 "nbformat_minor": 2
}
