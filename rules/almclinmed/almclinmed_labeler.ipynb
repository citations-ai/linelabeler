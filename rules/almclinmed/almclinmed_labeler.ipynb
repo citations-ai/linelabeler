{
 "cells": [
  {
   "cell_type": "code",
   "execution_count": 1,
   "metadata": {},
   "outputs": [],
   "source": [
    "from collections import namedtuple, defaultdict\n",
    "import numpy as np\n",
    "from enum import Enum"
   ]
  },
  {
   "cell_type": "code",
   "execution_count": 2,
   "metadata": {},
   "outputs": [],
   "source": [
    "DataLine = namedtuple('DataLine', [\n",
    "    'page_number', \n",
    "    'line_global_number', \n",
    "    'int_from_prev', \n",
    "    'int_from_next',\n",
    "    'margin_left',\n",
    "    'font_size',\n",
    "    'font_type',\n",
    "    'raw_text'\n",
    "])"
   ]
  },
  {
   "cell_type": "code",
   "execution_count": 3,
   "metadata": {},
   "outputs": [],
   "source": [
    "structure_file_name = 'y:2018:i:3:p:289-295.json'"
   ]
  },
  {
   "cell_type": "code",
   "execution_count": 4,
   "metadata": {},
   "outputs": [],
   "source": [
    "data = []\n",
    "\n",
    "with open(structure_file_name, \"r\", encoding=\"utf8\") as read_file:\n",
    "    for line in read_file:\n",
    "        splitted = line.replace('\\n', '').split(':')\n",
    "        for i in range(6):\n",
    "            splitted[i] = int(splitted[i]) if len(splitted[i]) > 0 else 0\n",
    "        #print(splitted)\n",
    "        if len(splitted) > 8:\n",
    "            rt = ':'.join(splitted[7:])\n",
    "            data_line = DataLine(*splitted[:7], rt)\n",
    "        elif len(splitted) == 8:\n",
    "            data_line = DataLine(*splitted)\n",
    "        else:\n",
    "            assert len(splitted) >= 8, 'must have at least 8 elements'\n",
    "        data.append(data_line)"
   ]
  },
  {
   "cell_type": "code",
   "execution_count": 5,
   "metadata": {},
   "outputs": [
    {
     "data": {
      "text/plain": [
       "740"
      ]
     },
     "execution_count": 5,
     "metadata": {},
     "output_type": "execute_result"
    }
   ],
   "source": [
    "len(data)"
   ]
  },
  {
   "cell_type": "code",
   "execution_count": null,
   "metadata": {},
   "outputs": [],
   "source": []
  },
  {
   "cell_type": "markdown",
   "metadata": {},
   "source": []
  },
  {
   "cell_type": "code",
   "execution_count": null,
   "metadata": {},
   "outputs": [],
   "source": []
  },
  {
   "cell_type": "markdown",
   "metadata": {},
   "source": [
    "**Notation**:\n",
    "\n",
    "- A --- paragraph starts\n",
    "- B --- paragraph continues\n",
    "- C --- header starts\n",
    "- D --- bukvitsa\n",
    "- ? --- other"
   ]
  },
  {
   "cell_type": "markdown",
   "metadata": {},
   "source": [
    "# Нахождение отступа основного текста\n",
    "\n",
    "Основной текст (в одноколочных публикациях) должен находиться левее всего."
   ]
  },
  {
   "cell_type": "code",
   "execution_count": 6,
   "metadata": {},
   "outputs": [],
   "source": [
    "indents = np.array([x.margin_left for x in data])"
   ]
  },
  {
   "cell_type": "code",
   "execution_count": 7,
   "metadata": {},
   "outputs": [
    {
     "name": "stdout",
     "output_type": "stream",
     "text": [
      "[  0  31  33  33  33  34  34  34  34  34  34  34  34  34  34  34  34  34\n",
      "  34  34  34  34  34  34  34  34  34  34  34  34  34  34  34  34  34  34\n",
      "  34  34  34  34  34  34  34  34  34  34  34  34  34  34  34  34  34  34\n",
      "  34  34  34  34  34  34  34  34  34  34  34  34  34  34  34  34  34  34\n",
      "  34  34  34  34  34  34  34  34  34  34  34  34  34  34  34  34  34  34\n",
      "  34  34  34  34  42  42  42  42  42  42  42  42  42  42  42  42  42  42\n",
      "  42  42  42  42  42  42  42  42  42  42  42  42  42  42  42  42  42  42\n",
      "  42  42  42  42  42  42  42  42  42  42  42  42  42  42  42  42  42  42\n",
      "  42  42  42  42  42  42  42  42  42  42  42  42  42  42  42  42  42  42\n",
      "  42  42  42  42  42  42  42  42  42  42  42  42  42  42  42  42  42  42\n",
      "  42  42  42  42  42  42  42  42  42  42  42  42  42  42  42  42  42  42\n",
      "  42  42  42  42  42  42  42  42  42  42  42  42  42  42  42  42  42  42\n",
      "  42  42  42  42  42  42  42  42  42  42  42  42  42  42  42  42  42  42\n",
      "  42  42  42  42  42  42  42  42  42  42  42  42  42  42  42  42  42  42\n",
      "  42  42  42  42  42  42  42  42  43  48  48  48  48  48  49  49  49  49\n",
      "  49  49  49  49  49  49  49  49  49  49  49  49  49  49  49  49  49  49\n",
      "  49  49  49  49  49  49  49  50  56  56  56  56  56  58  58  58  58  58\n",
      "  58  58  58  58  58  58  58  58  79  79  79  79 217 217 217 217 217 217\n",
      " 225 225 225 225 225 225 225 225 225 225 225 225 225 225 225 225 225 225\n",
      " 225 225 225 225 225 225 225 225 225 225 225 225 225 225 225 225 225 225\n",
      " 225 225 225 225 225 225 225 225 225 225 225 225 225 228 232 232 232 232\n",
      " 232 232 232 232 232 232 232 232 232 232 232 232 232 232 232 232 232 232\n",
      " 232 232 232 232 232 232 232 232 241 241 241 241 241 241 241 241 241 241\n",
      " 241 241 241 241 241 241 263 263 263 263 263 263 263 263 263 263 263 263\n",
      " 263 263 263 263 263 263 263 354 354 354 354 354 354 354 354 354 354 354\n",
      " 354 354 354 354 354 354 354 354 354 354 354 354 354 354 354 354 354 354\n",
      " 354 354 354 354 354 354 354 354 354 354 354 354 354 354 354 354 354 354\n",
      " 354 354 354 354 354 354 354 354 354 354 354 354 354 354 354 354 354 354\n",
      " 354 354 354 354 354 354 354 354 354 354 354 354 354 354 362 362 362 362\n",
      " 362 362 362 362 362 362 362 362 362 362 362 362 362 362 362 362 362 362\n",
      " 362 362 362 362 362 362 362 362 362 362 362 362 362 362 362 362 362 362\n",
      " 362 362 362 362 362 362 362 362 362 362 362 362 362 362 362 362 362 362\n",
      " 362 362 362 362 362 362 362 362 362 362 362 362 362 362 362 362 362 362\n",
      " 362 362 362 362 362 362 362 362 362 362 362 362 362 362 362 362 362 362\n",
      " 362 362 362 362 362 362 368 368 368 368 368 368 368 368 368 368 368 368\n",
      " 368 377 377 377 377 377 377 377 400 400 400 400 409 409 409 409 409 409\n",
      " 409 409 409 409 409 409 409 409 409 409 409 409 409 409 409 409 409 409\n",
      " 409 409 416 416 416 416 416 416 416 416 416 416 416 416 416 416 416 416\n",
      " 416 416 416 416 416 416 416 416 416 416 416 416 416 424 424 424 424 424\n",
      " 424 424 424 424 424 424 424 424 424 424 424 424 424 424 424 424 424 424\n",
      " 424 424 424 424 424 424 424 424 424 424 424 424 424 424 424 424 424 424\n",
      " 427 432]\n"
     ]
    }
   ],
   "source": [
    "print(np.sort(indents))"
   ]
  },
  {
   "cell_type": "markdown",
   "metadata": {},
   "source": [
    "Здесь можно для каждого журнала найти [и захардкодить] \"важные\" значения: отступы для основного текста, для начал абзацев, ...\n",
    "\n",
    "Мы попытаемся определять эти границы при помощи некоторой статистики."
   ]
  },
  {
   "cell_type": "code",
   "execution_count": 34,
   "metadata": {},
   "outputs": [],
   "source": [
    "last_page = data[-1].page_number"
   ]
  },
  {
   "cell_type": "code",
   "execution_count": 35,
   "metadata": {},
   "outputs": [
    {
     "data": {
      "text/plain": [
       "7"
      ]
     },
     "execution_count": 35,
     "metadata": {},
     "output_type": "execute_result"
    }
   ],
   "source": [
    "last_page"
   ]
  },
  {
   "cell_type": "code",
   "execution_count": 8,
   "metadata": {},
   "outputs": [],
   "source": [
    "margin_lefts = np.array([x.margin_left for x in data])\n",
    "\n",
    "unique_margin_lefts, pos_margin_lefts = np.unique(margin_lefts, return_inverse=True)\n",
    "counts_margin_lefts = np.bincount(pos_margin_lefts)\n",
    "sorted_margin_lefts = np.argsort(counts_margin_lefts)[::-1]"
   ]
  },
  {
   "cell_type": "code",
   "execution_count": null,
   "metadata": {},
   "outputs": [],
   "source": []
  },
  {
   "cell_type": "code",
   "execution_count": 9,
   "metadata": {},
   "outputs": [
    {
     "data": {
      "text/plain": [
       "array([  0,  31,  33,  34,  42,  43,  48,  49,  50,  56,  58,  79, 217,\n",
       "       225, 228, 232, 241, 263, 354, 362, 368, 377, 400, 409, 416, 424,\n",
       "       427, 432])"
      ]
     },
     "execution_count": 9,
     "metadata": {},
     "output_type": "execute_result"
    }
   ],
   "source": [
    "unique_margin_lefts"
   ]
  },
  {
   "cell_type": "code",
   "execution_count": 14,
   "metadata": {},
   "outputs": [
    {
     "data": {
      "text/plain": [
       "array([166, 100,  89,  79,  49,  41,  30,  29,  29,  26])"
      ]
     },
     "execution_count": 14,
     "metadata": {},
     "output_type": "execute_result"
    }
   ],
   "source": [
    "counts_margin_lefts[sorted_margin_lefts[:10]]"
   ]
  },
  {
   "cell_type": "code",
   "execution_count": 15,
   "metadata": {},
   "outputs": [
    {
     "data": {
      "text/plain": [
       "array([ 42, 362,  34, 354, 225, 424, 232, 416,  49, 409])"
      ]
     },
     "execution_count": 15,
     "metadata": {},
     "output_type": "execute_result"
    }
   ],
   "source": [
    "unique_margin_lefts[sorted_margin_lefts[:10]]"
   ]
  },
  {
   "cell_type": "code",
   "execution_count": 20,
   "metadata": {},
   "outputs": [],
   "source": [
    "lens = unique_margin_lefts[sorted_margin_lefts]"
   ]
  },
  {
   "cell_type": "code",
   "execution_count": 21,
   "metadata": {},
   "outputs": [
    {
     "data": {
      "text/plain": [
       "array([ 42, 362,  34, 354, 225, 424, 232, 416,  49, 409])"
      ]
     },
     "execution_count": 21,
     "metadata": {},
     "output_type": "execute_result"
    }
   ],
   "source": [
    "lens[:10]"
   ]
  },
  {
   "cell_type": "code",
   "execution_count": 22,
   "metadata": {},
   "outputs": [],
   "source": [
    "MIN_MARGINS = lens[:4]"
   ]
  },
  {
   "cell_type": "code",
   "execution_count": 57,
   "metadata": {},
   "outputs": [
    {
     "data": {
      "text/plain": [
       "array([ 42, 362,  34, 354])"
      ]
     },
     "execution_count": 57,
     "metadata": {},
     "output_type": "execute_result"
    }
   ],
   "source": [
    "MIN_MARGINS"
   ]
  },
  {
   "cell_type": "markdown",
   "metadata": {},
   "source": [
    "# Определение шрифта основного текста\n",
    "\n",
    "Это должен быть самый частый шрифт для строк с основным текстом."
   ]
  },
  {
   "cell_type": "raw",
   "metadata": {},
   "source": [
    "# реализация в предположении, что этот шрифт самый частотный во всем документе\n",
    "# для статей с большим числом формул это может быть неверно\n",
    "\n",
    "font_types = np.array([x.font_type for x in data])\n",
    "\n",
    "unique_font_types, pos_font_types = np.unique(font_types, return_inverse=True)\n",
    "counts_font_types = np.bincount(pos_font_types)\n",
    "REGULAR_FONT_TYPE = unique_font_types[counts_font_types.argmax()]"
   ]
  },
  {
   "cell_type": "code",
   "execution_count": 49,
   "metadata": {},
   "outputs": [],
   "source": [
    "font_types = defaultdict(int)\n",
    "\n",
    "REGULAR_FONT_TYPE = None\n",
    "REGULAR_FONT_SIZE = None\n",
    "MAX_FONT_SIZE = 0\n",
    "max_font_type = 0\n",
    "max_font_size_ind = None\n",
    "\n",
    "for x in data:\n",
    "    if x.page_number in [1, last_page]:\n",
    "        continue\n",
    "    \n",
    "    # буквица\n",
    "    if MAX_FONT_SIZE < x.font_size:\n",
    "        MAX_FONT_SIZE = x.font_size\n",
    "        max_font_size_ind = x.line_global_number\n",
    "        \n",
    "    if min(abs(x.margin_left - MIN_MARGINS)) <= 2: # допустимая погрешность\n",
    "        font_types[x.font_type] += 1\n",
    "        if font_types[x.font_type] > max_font_type:\n",
    "            max_font_type = font_types[x.font_type]\n",
    "            REGULAR_FONT_TYPE = x.font_type\n",
    "            REGULAR_FONT_SIZE = x.font_size"
   ]
  },
  {
   "cell_type": "code",
   "execution_count": 45,
   "metadata": {},
   "outputs": [
    {
     "data": {
      "text/plain": [
       "('g_d0_f7', 100)"
      ]
     },
     "execution_count": 45,
     "metadata": {},
     "output_type": "execute_result"
    }
   ],
   "source": [
    "REGULAR_FONT_TYPE, REGULAR_FONT_SIZE"
   ]
  },
  {
   "cell_type": "code",
   "execution_count": 50,
   "metadata": {},
   "outputs": [
    {
     "data": {
      "text/plain": [
       "(4195, 97)"
      ]
     },
     "execution_count": 50,
     "metadata": {},
     "output_type": "execute_result"
    }
   ],
   "source": [
    "MAX_FONT_SIZE, max_font_size_ind"
   ]
  },
  {
   "cell_type": "code",
   "execution_count": 54,
   "metadata": {},
   "outputs": [],
   "source": [
    "MARGIN_FIRST = data[max_font_size_ind+1].margin_left"
   ]
  },
  {
   "cell_type": "code",
   "execution_count": 59,
   "metadata": {},
   "outputs": [
    {
     "data": {
      "text/plain": [
       "DataLine(page_number=2, line_global_number=97, int_from_prev=0, int_from_next=0, margin_left=31, font_size=4195, font_type='g_d0_f7', raw_text='И')"
      ]
     },
     "execution_count": 59,
     "metadata": {},
     "output_type": "execute_result"
    }
   ],
   "source": [
    "data[max_font_size_ind]"
   ]
  },
  {
   "cell_type": "code",
   "execution_count": 55,
   "metadata": {},
   "outputs": [
    {
     "data": {
      "text/plain": [
       "79"
      ]
     },
     "execution_count": 55,
     "metadata": {},
     "output_type": "execute_result"
    }
   ],
   "source": [
    "MARGIN_FIRST"
   ]
  },
  {
   "cell_type": "code",
   "execution_count": null,
   "metadata": {},
   "outputs": [],
   "source": []
  },
  {
   "cell_type": "code",
   "execution_count": 67,
   "metadata": {},
   "outputs": [],
   "source": [
    "C_FONT_TYPE = 'g_d0_f9' # TODO"
   ]
  },
  {
   "cell_type": "code",
   "execution_count": 72,
   "metadata": {},
   "outputs": [
    {
     "data": {
      "text/plain": [
       "DataLine(page_number=3, line_global_number=206, int_from_prev=0, int_from_next=12, margin_left=42, font_size=100, font_type='g_d0_f7', raw_text='получен  ложноположительный  результат,  тогда  ')"
      ]
     },
     "execution_count": 72,
     "metadata": {},
     "output_type": "execute_result"
    }
   ],
   "source": [
    "data[206]"
   ]
  },
  {
   "cell_type": "markdown",
   "metadata": {},
   "source": [
    "# Процессинг документа (первичный)"
   ]
  },
  {
   "cell_type": "code",
   "execution_count": null,
   "metadata": {},
   "outputs": [],
   "source": []
  },
  {
   "cell_type": "code",
   "execution_count": null,
   "metadata": {},
   "outputs": [],
   "source": []
  },
  {
   "cell_type": "code",
   "execution_count": 68,
   "metadata": {},
   "outputs": [],
   "source": [
    "class State(Enum):\n",
    "    NEUTRAL = 0\n",
    "    PARAGRAPH = 1\n",
    "    FIRST_PAR = 2\n",
    "\n",
    "cur_state = State[\"NEUTRAL\"]"
   ]
  },
  {
   "cell_type": "code",
   "execution_count": 82,
   "metadata": {},
   "outputs": [],
   "source": [
    "PAR_MARGINS = MIN_MARGINS + 14\n",
    "\n",
    "def process_line(line, cur_state):\n",
    "    \n",
    "    margin_diffs = abs(line.margin_left - MIN_MARGINS)\n",
    "    ind_column = np.argmin(margin_diffs)\n",
    "            \n",
    "    font_diff = abs(line.font_size - REGULAR_FONT_SIZE)\n",
    "    margin_diff = min(margin_diffs)\n",
    "    par_margin = min(abs(line.margin_left - PAR_MARGINS))\n",
    "    \n",
    "    # игнорим \n",
    "    if line.font_type not in [PAR_FONT_TYPE, REGULAR_FONT_TYPE]:\n",
    "        label = '?'\n",
    "        new_state = cur_state\n",
    "        return label, new_state\n",
    "    \n",
    "    # буквица\n",
    "    if line.font_size == MAX_FONT_SIZE:\n",
    "        label = 'A' # bukvitsa\n",
    "        new_state = State[\"PARAGRAPH\"]\n",
    "        return label, new_state\n",
    "    \n",
    "    # буквица:after\n",
    "    if line.margin_left == MARGIN_FIRST:\n",
    "        label = 'B' # paragraph\n",
    "        new_state = State[\"PARAGRAPH\"]\n",
    "        return label, new_state\n",
    "    \n",
    "    # заголовок\n",
    "    if line.font_type == C_FONT_TYPE:\n",
    "        label = 'C' # header\n",
    "        new_state = State[\"PARAGRAPH\"]\n",
    "        return label, new_state\n",
    "    \n",
    "    # абзац\n",
    "    if cur_state == State[\"NEUTRAL\"]:\n",
    "        #print('1')\n",
    "        if par_margin <= 2:\n",
    "            #print('11!')\n",
    "            label = 'A' # paragraph starts\n",
    "            new_state = State[\"PARAGRAPH\"]    \n",
    "        else:\n",
    "            #print('12')\n",
    "            label = '?' # something strange\n",
    "            new_state = State[\"NEUTRAL\"]\n",
    "    \n",
    "    elif cur_state == State[\"PARAGRAPH\"]:           \n",
    "        if margin_diff <= 2:\n",
    "            label = 'B' # paragraph continues\n",
    "            new_state = State[\"PARAGRAPH\"]\n",
    "        elif par_margin <= 2:\n",
    "            label = 'A' # paragraph starts\n",
    "            new_state = State[\"PARAGRAPH\"]\n",
    "        else:\n",
    "            # list or other\n",
    "            # TODO: find features for lists\n",
    "            label = '?' # something strange\n",
    "            new_state = State[\"PARAGRAPH\"]\n",
    "    \n",
    "    #print(line.raw_text)\n",
    "    return label, new_state"
   ]
  },
  {
   "cell_type": "code",
   "execution_count": null,
   "metadata": {},
   "outputs": [],
   "source": []
  },
  {
   "cell_type": "code",
   "execution_count": null,
   "metadata": {},
   "outputs": [],
   "source": []
  },
  {
   "cell_type": "code",
   "execution_count": null,
   "metadata": {},
   "outputs": [],
   "source": []
  },
  {
   "cell_type": "code",
   "execution_count": null,
   "metadata": {},
   "outputs": [],
   "source": []
  },
  {
   "cell_type": "code",
   "execution_count": 83,
   "metadata": {},
   "outputs": [],
   "source": [
    "def write_labeled(output_file_name=None):\n",
    "    if output_file_name is None:\n",
    "        output_file_name = structure_file_name[:-5] + '_l' + structure_file_name[-5:]\n",
    "    with open(output_file_name, 'w', encoding='utf8') as output:\n",
    "        cur_state = State[\"NEUTRAL\"]\n",
    "\n",
    "        for line in data:\n",
    "            label, cur_state = process_line(line, cur_state)\n",
    "            line_export = list(line[:7])\n",
    "            line_export.append(label)\n",
    "            line_export.append(line[-1])\n",
    "            \n",
    "            line_export = ':'.join([str(y) for y in line_export])\n",
    "            output.write(f'{line_export}\\n')"
   ]
  },
  {
   "cell_type": "code",
   "execution_count": 84,
   "metadata": {},
   "outputs": [],
   "source": [
    "write_labeled()"
   ]
  },
  {
   "cell_type": "code",
   "execution_count": null,
   "metadata": {},
   "outputs": [],
   "source": []
  },
  {
   "cell_type": "code",
   "execution_count": null,
   "metadata": {},
   "outputs": [],
   "source": []
  },
  {
   "cell_type": "code",
   "execution_count": null,
   "metadata": {},
   "outputs": [],
   "source": []
  },
  {
   "cell_type": "code",
   "execution_count": null,
   "metadata": {},
   "outputs": [],
   "source": []
  }
 ],
 "metadata": {
  "kernelspec": {
   "display_name": "Python 3",
   "language": "python",
   "name": "python3"
  },
  "language_info": {
   "codemirror_mode": {
    "name": "ipython",
    "version": 3
   },
   "file_extension": ".py",
   "mimetype": "text/x-python",
   "name": "python",
   "nbconvert_exporter": "python",
   "pygments_lexer": "ipython3",
   "version": "3.7.1"
  }
 },
 "nbformat": 4,
 "nbformat_minor": 2
}
