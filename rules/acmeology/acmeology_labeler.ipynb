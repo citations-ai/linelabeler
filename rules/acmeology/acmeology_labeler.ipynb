{
 "cells": [
  {
   "cell_type": "code",
   "execution_count": 1,
   "metadata": {},
   "outputs": [],
   "source": [
    "from collections import namedtuple, defaultdict\n",
    "import numpy as np\n",
    "from enum import Enum"
   ]
  },
  {
   "cell_type": "code",
   "execution_count": 2,
   "metadata": {},
   "outputs": [],
   "source": [
    "DataLine = namedtuple('DataLine', [\n",
    "    'page_number', \n",
    "    'line_global_number', \n",
    "    'int_from_prev', \n",
    "    'int_from_next',\n",
    "    'margin_left',\n",
    "    'font_size',\n",
    "    'font_type',\n",
    "    'raw_text'\n",
    "])"
   ]
  },
  {
   "cell_type": "code",
   "execution_count": 3,
   "metadata": {},
   "outputs": [],
   "source": [
    "structure_file_name = 'y:2018:i:3:p:58-66.json'"
   ]
  },
  {
   "cell_type": "code",
   "execution_count": 4,
   "metadata": {},
   "outputs": [],
   "source": [
    "data = []\n",
    "\n",
    "with open(structure_file_name, \"r\", encoding=\"utf8\") as read_file:\n",
    "    for line in read_file:\n",
    "        splitted = line.replace('\\n', '').split(':')\n",
    "        for i in range(6):\n",
    "            splitted[i] = int(splitted[i]) if len(splitted[i]) > 0 else 0\n",
    "        #print(splitted)\n",
    "        if len(splitted) > 8:\n",
    "            rt = ':'.join(splitted[7:])\n",
    "            data_line = DataLine(*splitted[:7], rt)\n",
    "        elif len(splitted) == 8:\n",
    "            data_line = DataLine(*splitted)\n",
    "        else:\n",
    "            assert len(splitted) >= 8, 'must have at least 8 elements'\n",
    "        data.append(data_line)"
   ]
  },
  {
   "cell_type": "code",
   "execution_count": 5,
   "metadata": {},
   "outputs": [
    {
     "data": {
      "text/plain": [
       "1178"
      ]
     },
     "execution_count": 5,
     "metadata": {},
     "output_type": "execute_result"
    }
   ],
   "source": [
    "len(data)"
   ]
  },
  {
   "cell_type": "code",
   "execution_count": null,
   "metadata": {},
   "outputs": [],
   "source": []
  },
  {
   "cell_type": "markdown",
   "metadata": {},
   "source": []
  },
  {
   "cell_type": "code",
   "execution_count": null,
   "metadata": {},
   "outputs": [],
   "source": []
  },
  {
   "cell_type": "markdown",
   "metadata": {},
   "source": [
    "**Notation**:\n",
    "\n",
    "- A --- paragraph starts\n",
    "- B --- paragraph continues\n",
    "- C --- header starts\n",
    "- ? --- other"
   ]
  },
  {
   "cell_type": "markdown",
   "metadata": {},
   "source": [
    "# Нахождение отступа основного текста\n",
    "\n",
    "Основной текст (в одноколочных публикациях) должен находиться левее всего."
   ]
  },
  {
   "cell_type": "code",
   "execution_count": 8,
   "metadata": {},
   "outputs": [],
   "source": [
    "indents = np.array([x.margin_left for x in data])"
   ]
  },
  {
   "cell_type": "code",
   "execution_count": 14,
   "metadata": {},
   "outputs": [
    {
     "name": "stdout",
     "output_type": "stream",
     "text": [
      "[  0  55  55  55  55  55  55  55  55  55  55  55  55  55  55  55  55  55\n",
      "  55  55  55  55  55  55  55  55  55  55  55  55  55  55  55  55  55  55\n",
      "  55  55  55  55  55  55  55  55  55  55  55  55  55  55  55  55  55  55\n",
      "  55  55  55  55  58  58  58  58  58  58  58  58  58  58  58  58  58  58\n",
      "  58  58  58  58  58  58  58  58  58  58  58  58  58  58  58  58  58  58\n",
      "  58  58  58  58  58  58  58  58  58  58  58  58  58  58  58  58  58  58\n",
      "  58  58  58  58  58  58  58  58  58  58  58  58  58  58  58  58  58  58\n",
      "  58  58  58  58  58  58  58  58  58  58  58  58  58  58  58  58  58  58\n",
      "  58  58  58  58  58  58  58  58  58  58  58  58  58  58  58  58  58  58\n",
      "  58  58  58  58  58  58  63  63  63  63  63  63  66  66  66  66  66  68\n",
      "  69  72  72  72  72  72  72  75  75  75  75  75  75  75  75  75  85  90\n",
      " 108 134 134 134 134 134 134 134 134 134 134 134 134 134 135 151 165 220\n",
      " 220 220 220 220 220 220 220 220 220 220 220 220 220 220 220 220 220 220\n",
      " 220 220 220 220 220 220 220 220 220 220 220 220 220 220 220 220 220 220\n",
      " 220 220 220 220 220 220 220 220 220 220 220 220 220 220 220 220 220 220\n",
      " 220 220 220 220 220 220 223 223 223 223 223 223 223 223 223 223 223 223\n",
      " 223 223 223 223 223 223 223 223 223 223 223 223 223 223 223 223 223 223\n",
      " 223 223 223 223 223 223 223 223 223 223 223 223 223 223 223 223 223 223\n",
      " 223 223 223 223 223 223 223 223 223 223 223 223 223 223 223 223 223 223\n",
      " 223 223 223 223 223 223 223 223 223 223 223 223 223 223 223 223 223 223\n",
      " 223 223 223 223 223 223 223 223 223 223 223 223 223 223 223 223 223 223\n",
      " 223 229 229 229 229 229 229 231 231 231 231 231 231 234 234 237 237 237\n",
      " 243 243 243 243 243 243 243 243 243 266 385 385 385 385 385 385 385 385\n",
      " 385 385 385 385 385 385 385 385 385 385 385 385 385 385 385 385 385 385\n",
      " 385 385 385 385 385 385 385 385 385 385 385 385 385 385 385 385 385 385\n",
      " 385 385 385 385 385 385 385 385 385 385 385 385 385 385 385 385 385 385\n",
      " 388 388 388 388 388 388 388 388 388 388 388 388 388 388 388 388 388 388\n",
      " 388 388 388 388 388 388 388 388 388 388 388 388 388 388 388 388 388 388\n",
      " 388 388 388 388 388 388 388 388 388 388 388 388 388 388 388 388 388 388\n",
      " 388 388 388 388 388 388 388 388 388 388 388 388 388 388 388 388 388 388\n",
      " 388 388 388 388 388 388 388 388 388 388 388 388 388 388 388 388 388 388\n",
      " 388 388 388 388 388 388 388 388 394 394 394 394 394 394 396 397 397 397\n",
      " 397 397 397 397 397 400 400 400 402 402 402 402 434]\n"
     ]
    }
   ],
   "source": [
    "print(np.sort(indents)[::2])"
   ]
  },
  {
   "cell_type": "markdown",
   "metadata": {},
   "source": [
    "Здесь можно для каждого журнала найти [и захардкодить] \"важные\" значения: отступы для основного текста, для начал абзацев, ...\n",
    "\n",
    "Мы попытаемся определять эти границы при помощи некоторой статистики."
   ]
  },
  {
   "cell_type": "code",
   "execution_count": 25,
   "metadata": {},
   "outputs": [],
   "source": [
    "margin_lefts = np.array([x.margin_left for x in data])\n",
    "\n",
    "unique_margin_lefts, pos_margin_lefts = np.unique(margin_lefts, return_inverse=True)\n",
    "counts_margin_lefts = np.bincount(pos_margin_lefts)\n",
    "sorted_margin_lefts = np.argsort(counts_margin_lefts)[::-1]"
   ]
  },
  {
   "cell_type": "code",
   "execution_count": null,
   "metadata": {},
   "outputs": [],
   "source": []
  },
  {
   "cell_type": "code",
   "execution_count": 26,
   "metadata": {},
   "outputs": [
    {
     "data": {
      "text/plain": [
       "array([  0,  55,  58,  63,  64,  66,  68,  69,  72,  75,  83,  85,  90,\n",
       "       106, 108, 114, 134, 135, 142, 151, 153, 165, 174, 220, 223, 229,\n",
       "       231, 234, 237, 243, 246, 266, 385, 388, 391, 394, 396, 397, 400,\n",
       "       402, 434, 447])"
      ]
     },
     "execution_count": 26,
     "metadata": {},
     "output_type": "execute_result"
    }
   ],
   "source": [
    "unique_margin_lefts"
   ]
  },
  {
   "cell_type": "code",
   "execution_count": 33,
   "metadata": {},
   "outputs": [
    {
     "data": {
      "text/plain": [
       "array([220, 205, 195, 125, 122, 114,  26,  18,  17,  16,  13,  12,  12,\n",
       "        12,  12])"
      ]
     },
     "execution_count": 33,
     "metadata": {},
     "output_type": "execute_result"
    }
   ],
   "source": [
    "counts_margin_lefts[sorted_margin_lefts[:15]]"
   ]
  },
  {
   "cell_type": "code",
   "execution_count": 34,
   "metadata": {},
   "outputs": [
    {
     "data": {
      "text/plain": [
       "array([ 58, 223, 388, 385, 220,  55, 134,  75, 243, 397, 231, 394,  63,\n",
       "       229,  72])"
      ]
     },
     "execution_count": 34,
     "metadata": {},
     "output_type": "execute_result"
    }
   ],
   "source": [
    "unique_margin_lefts[sorted_margin_lefts[:15]]"
   ]
  },
  {
   "cell_type": "code",
   "execution_count": 79,
   "metadata": {},
   "outputs": [],
   "source": [
    "MIN_MARGINS = unique_margin_lefts[sorted_margin_lefts[:6]]"
   ]
  },
  {
   "cell_type": "code",
   "execution_count": 80,
   "metadata": {},
   "outputs": [],
   "source": [
    "lens = unique_margin_lefts[sorted_margin_lefts]"
   ]
  },
  {
   "cell_type": "code",
   "execution_count": 81,
   "metadata": {},
   "outputs": [
    {
     "data": {
      "text/plain": [
       "array([ 58, 223, 388, 385, 220,  55, 134,  75, 243, 397, 231, 394,  63,\n",
       "       229,  72])"
      ]
     },
     "execution_count": 81,
     "metadata": {},
     "output_type": "execute_result"
    }
   ],
   "source": [
    "lens[:15]"
   ]
  },
  {
   "cell_type": "code",
   "execution_count": null,
   "metadata": {},
   "outputs": [],
   "source": []
  },
  {
   "cell_type": "code",
   "execution_count": null,
   "metadata": {},
   "outputs": [],
   "source": []
  },
  {
   "cell_type": "markdown",
   "metadata": {},
   "source": [
    "# Определение шрифта основного текста\n",
    "\n",
    "Это должен быть самый частый шрифт для строк с основным текстом."
   ]
  },
  {
   "cell_type": "raw",
   "metadata": {},
   "source": [
    "# реализация в предположении, что этот шрифт самый частотный во всем документе\n",
    "# для статей с большим числом формул это может быть неверно\n",
    "\n",
    "font_types = np.array([x.font_type for x in data])\n",
    "\n",
    "unique_font_types, pos_font_types = np.unique(font_types, return_inverse=True)\n",
    "counts_font_types = np.bincount(pos_font_types)\n",
    "REGULAR_FONT_TYPE = unique_font_types[counts_font_types.argmax()]"
   ]
  },
  {
   "cell_type": "code",
   "execution_count": 99,
   "metadata": {},
   "outputs": [],
   "source": [
    "font_types = defaultdict(int)\n",
    "\n",
    "REGULAR_FONT_TYPE = None\n",
    "REGULAR_FONT_SIZE = None\n",
    "max_font_type = 0\n",
    "\n",
    "for x in data:\n",
    "    if min(abs(x.margin_left - MIN_MARGINS)) <= 2: # допустимая погрешность\n",
    "        font_types[x.font_type] += 1\n",
    "        if font_types[x.font_type] > max_font_type:\n",
    "            max_font_type = font_types[x.font_type]\n",
    "            REGULAR_FONT_TYPE = x.font_type\n",
    "            REGULAR_FONT_SIZE = x.font_size"
   ]
  },
  {
   "cell_type": "code",
   "execution_count": 100,
   "metadata": {},
   "outputs": [
    {
     "data": {
      "text/plain": [
       "('g_d0_f6', 81)"
      ]
     },
     "execution_count": 100,
     "metadata": {},
     "output_type": "execute_result"
    }
   ],
   "source": [
    "REGULAR_FONT_TYPE, REGULAR_FONT_SIZE"
   ]
  },
  {
   "cell_type": "markdown",
   "metadata": {},
   "source": [
    "# Процессинг документа (первичный)"
   ]
  },
  {
   "cell_type": "code",
   "execution_count": 159,
   "metadata": {},
   "outputs": [],
   "source": []
  },
  {
   "cell_type": "code",
   "execution_count": null,
   "metadata": {},
   "outputs": [],
   "source": []
  },
  {
   "cell_type": "code",
   "execution_count": 225,
   "metadata": {},
   "outputs": [],
   "source": [
    "class State(Enum):\n",
    "    NEUTRAL = 0\n",
    "    PARAGRAPH = 1\n",
    "\n",
    "cur_state = State[\"NEUTRAL\"]"
   ]
  },
  {
   "cell_type": "code",
   "execution_count": 267,
   "metadata": {},
   "outputs": [],
   "source": [
    "PAR_MARGINS = MIN_MARGINS + 14  # захардкодили\n",
    "C_count = 0"
   ]
  },
  {
   "cell_type": "code",
   "execution_count": 268,
   "metadata": {},
   "outputs": [],
   "source": [
    "#PAR_MARGINS = -np.ones(6)  # могли бы захардкодить, если бы знали заранее\n",
    "\n",
    "def process_line(line, cur_state):\n",
    "    global PAR_MARGINS, C_count\n",
    "    \n",
    "    margin_diffs = abs(line.margin_left - MIN_MARGINS)\n",
    "    ind_column = np.argmin(margin_diffs)\n",
    "            \n",
    "    font_diff = abs(line.font_size - REGULAR_FONT_SIZE)\n",
    "    margin_diff = min(margin_diffs)\n",
    "    par_margin = min(abs(line.margin_left - PAR_MARGINS))\n",
    "       \n",
    "    if line.font_type != REGULAR_FONT_TYPE and font_diff < 4 and margin_diff >= 17:  # заголовок секции\n",
    "        #print('0', line.font_type, font_diff, margin_diff, line.raw_text)\n",
    "        label = 'C' # header\n",
    "        new_state = State[\"NEUTRAL\"]\n",
    "        C_count += 1\n",
    "        return label, new_state\n",
    "    \n",
    "    if font_diff >= 4 or C_count == 0:\n",
    "        label = '?' # something strange\n",
    "        new_state = cur_state\n",
    "        return label, new_state\n",
    "    \n",
    "    if cur_state == State[\"NEUTRAL\"]:\n",
    "        #print('1')\n",
    "        if par_margin <= 2:\n",
    "            #print('11!')\n",
    "            label = 'A' # paragraph starts\n",
    "            new_state = State[\"PARAGRAPH\"]    \n",
    "        else:\n",
    "            #print('12')\n",
    "            label = '?' # something strange\n",
    "            new_state = State[\"NEUTRAL\"]\n",
    "    \n",
    "    elif cur_state == State[\"PARAGRAPH\"]:           \n",
    "        if par_margin <= 2:\n",
    "            label = 'A' # paragraph starts\n",
    "            new_state = State[\"PARAGRAPH\"]\n",
    "        elif margin_diff <= 2:\n",
    "            label = 'B' # paragraph continues\n",
    "            new_state = State[\"PARAGRAPH\"]\n",
    "        else:\n",
    "            # list or other\n",
    "            # TODO: find features for lists\n",
    "            label = '?' # something strange\n",
    "            new_state = State[\"PARAGRAPH\"]\n",
    "    \n",
    "    #print(line.raw_text)\n",
    "    return label, new_state"
   ]
  },
  {
   "cell_type": "code",
   "execution_count": null,
   "metadata": {},
   "outputs": [],
   "source": []
  },
  {
   "cell_type": "code",
   "execution_count": null,
   "metadata": {},
   "outputs": [],
   "source": []
  },
  {
   "cell_type": "code",
   "execution_count": null,
   "metadata": {},
   "outputs": [],
   "source": []
  },
  {
   "cell_type": "code",
   "execution_count": null,
   "metadata": {},
   "outputs": [],
   "source": []
  },
  {
   "cell_type": "code",
   "execution_count": 271,
   "metadata": {},
   "outputs": [],
   "source": [
    "def write_labeled(output_file_name=None):\n",
    "    if output_file_name is None:\n",
    "        output_file_name = structure_file_name[:-5] + '_l' + structure_file_name[-5:]\n",
    "    with open(output_file_name, 'w', encoding='utf8') as output:\n",
    "        cur_state = State[\"NEUTRAL\"]\n",
    "\n",
    "        for line in data:\n",
    "            label, cur_state = process_line(line, cur_state)\n",
    "            line_export = list(line[:7])\n",
    "            line_export.append(label)\n",
    "            line_export.append(line[-1])\n",
    "            \n",
    "            line_export = ':'.join([str(y) for y in line_export])\n",
    "            output.write(f'{line_export}\\n')"
   ]
  },
  {
   "cell_type": "code",
   "execution_count": 272,
   "metadata": {},
   "outputs": [],
   "source": [
    "write_labeled()"
   ]
  },
  {
   "cell_type": "code",
   "execution_count": null,
   "metadata": {},
   "outputs": [],
   "source": []
  },
  {
   "cell_type": "code",
   "execution_count": null,
   "metadata": {},
   "outputs": [],
   "source": []
  },
  {
   "cell_type": "code",
   "execution_count": null,
   "metadata": {},
   "outputs": [],
   "source": []
  },
  {
   "cell_type": "code",
   "execution_count": null,
   "metadata": {},
   "outputs": [],
   "source": []
  }
 ],
 "metadata": {
  "kernelspec": {
   "display_name": "Python 3",
   "language": "python",
   "name": "python3"
  },
  "language_info": {
   "codemirror_mode": {
    "name": "ipython",
    "version": 3
   },
   "file_extension": ".py",
   "mimetype": "text/x-python",
   "name": "python",
   "nbconvert_exporter": "python",
   "pygments_lexer": "ipython3",
   "version": "3.7.1"
  }
 },
 "nbformat": 4,
 "nbformat_minor": 2
}
