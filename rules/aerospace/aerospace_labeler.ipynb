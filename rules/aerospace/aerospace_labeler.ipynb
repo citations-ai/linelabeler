{
 "cells": [
  {
   "cell_type": "code",
   "execution_count": 1,
   "metadata": {},
   "outputs": [],
   "source": [
    "from collections import namedtuple, defaultdict\n",
    "import numpy as np\n",
    "from enum import Enum"
   ]
  },
  {
   "cell_type": "code",
   "execution_count": 2,
   "metadata": {},
   "outputs": [],
   "source": [
    "DataLine = namedtuple('DataLine', [\n",
    "    'page_number', \n",
    "    'line_global_number', \n",
    "    'int_from_prev', \n",
    "    'int_from_next',\n",
    "    'margin_left',\n",
    "    'font_size',\n",
    "    'font_type',\n",
    "    'raw_text'\n",
    "])"
   ]
  },
  {
   "cell_type": "code",
   "execution_count": 3,
   "metadata": {},
   "outputs": [],
   "source": [
    "structure_file_name = 'y:2015:i:1:p:1-17.json'"
   ]
  },
  {
   "cell_type": "code",
   "execution_count": 4,
   "metadata": {},
   "outputs": [],
   "source": [
    "data = []\n",
    "\n",
    "with open(structure_file_name, \"r\", encoding=\"utf8\") as read_file:\n",
    "    for line in read_file:\n",
    "        splitted = line.replace('\\n', '').split(':')\n",
    "        for i in range(6):\n",
    "            splitted[i] = int(splitted[i]) if len(splitted[i]) > 0 else 0\n",
    "        #print(splitted)\n",
    "        if len(splitted) > 8:\n",
    "            rt = ':'.join(splitted[7:])\n",
    "            data_line = DataLine(*splitted[:7], rt)\n",
    "        elif len(splitted) == 8:\n",
    "            data_line = DataLine(*splitted)\n",
    "        else:\n",
    "            assert len(splitted) >= 8, 'must have at least 8 elements'\n",
    "        data.append(data_line)"
   ]
  },
  {
   "cell_type": "code",
   "execution_count": 5,
   "metadata": {},
   "outputs": [
    {
     "data": {
      "text/plain": [
       "678"
      ]
     },
     "execution_count": 5,
     "metadata": {},
     "output_type": "execute_result"
    }
   ],
   "source": [
    "len(data)"
   ]
  },
  {
   "cell_type": "markdown",
   "metadata": {},
   "source": [
    "**Notation**:\n",
    "\n",
    "- A --- paragraph starts\n",
    "- B --- paragraph continues\n",
    "- C --- header starts\n",
    "- ? --- other"
   ]
  },
  {
   "cell_type": "markdown",
   "metadata": {},
   "source": [
    "# Нахождение отступа основного текста\n",
    "\n",
    "Основной текст (в одноколочных публикациях) должен находиться левее всего."
   ]
  },
  {
   "cell_type": "code",
   "execution_count": 6,
   "metadata": {},
   "outputs": [],
   "source": [
    "indents = np.array([x.margin_left for x in data])"
   ]
  },
  {
   "cell_type": "code",
   "execution_count": 7,
   "metadata": {},
   "outputs": [
    {
     "data": {
      "text/plain": [
       "array([  0,  62,  62,  62,  62,  62,  62,  62,  62,  62,  62,  62,  62,\n",
       "        62,  62,  62,  62,  62,  62,  62,  62,  62,  62,  62,  62,  62,\n",
       "        62,  62,  62,  62,  62,  62,  62,  62,  62,  62,  62,  62,  62,\n",
       "        62,  62,  62,  62,  62,  62,  62,  62,  62,  62,  62,  62,  62,\n",
       "        62,  62,  62,  62,  62,  62,  62,  62,  62,  62,  62,  62,  62,\n",
       "        62,  62,  62,  62,  62,  62,  62,  62,  62,  62,  62,  62,  62,\n",
       "        62,  62,  62,  62,  62,  62,  62,  72,  72,  72,  72,  83,  83,\n",
       "        83,  83,  83,  83,  83,  83,  83,  90,  90,  90,  90,  90,  90,\n",
       "        90,  90,  90,  90,  90,  90,  90,  90,  90,  90,  90,  90,  90,\n",
       "        90,  90,  90,  90,  90,  90,  90,  90,  90,  90,  90,  93, 156,\n",
       "       251, 265, 283, 317, 317, 351])"
      ]
     },
     "execution_count": 7,
     "metadata": {},
     "output_type": "execute_result"
    }
   ],
   "source": [
    "np.sort(indents)[::5]"
   ]
  },
  {
   "cell_type": "markdown",
   "metadata": {},
   "source": [
    "Здесь можно для каждого журнала найти [и захардкодить] \"важные\" значения: отступы для основного текста, для начал абзацев, ...\n",
    "\n",
    "Мы попытаемся определять эти границы при помощи некоторой статистики."
   ]
  },
  {
   "cell_type": "code",
   "execution_count": 9,
   "metadata": {},
   "outputs": [],
   "source": [
    "lens = np.unique(indents)\n",
    "MIN_MARGIN = lens[int(lens[0] == 0)]"
   ]
  },
  {
   "cell_type": "code",
   "execution_count": 10,
   "metadata": {},
   "outputs": [
    {
     "data": {
      "text/plain": [
       "62"
      ]
     },
     "execution_count": 10,
     "metadata": {},
     "output_type": "execute_result"
    }
   ],
   "source": [
    "MIN_MARGIN"
   ]
  },
  {
   "cell_type": "markdown",
   "metadata": {},
   "source": [
    "# Определение шрифта основного текста\n",
    "\n",
    "Это должен быть самый частый шрифт для строк с основным текстом."
   ]
  },
  {
   "cell_type": "raw",
   "metadata": {},
   "source": [
    "# реализация в предположении, что этот шрифт самый частотный во всем документе\n",
    "# для статей с большим числом формул это может быть неверно\n",
    "\n",
    "font_types = np.array([x.font_type for x in data])\n",
    "\n",
    "unique_font_types, pos_font_types = np.unique(font_types, return_inverse=True)\n",
    "counts_font_types = np.bincount(pos_font_types)\n",
    "REGULAR_FONT_TYPE = unique_font_types[counts_font_types.argmax()]"
   ]
  },
  {
   "cell_type": "code",
   "execution_count": 11,
   "metadata": {},
   "outputs": [],
   "source": [
    "font_types = defaultdict(int)\n",
    "\n",
    "REGULAR_FONT_TYPE = None\n",
    "REGULAR_FONT_SIZE = None\n",
    "max_font_type = 0\n",
    "\n",
    "for x in data:\n",
    "    if -2 <= x.margin_left - MIN_MARGIN <= 2: # допустимая погрешность\n",
    "        font_types[x.font_type] += 1\n",
    "        if font_types[x.font_type] > max_font_type:\n",
    "            max_font_type = font_types[x.font_type]\n",
    "            REGULAR_FONT_TYPE = x.font_type\n",
    "            REGULAR_FONT_SIZE = x.font_size"
   ]
  },
  {
   "cell_type": "code",
   "execution_count": 12,
   "metadata": {},
   "outputs": [
    {
     "data": {
      "text/plain": [
       "('g_d0_f1', 12)"
      ]
     },
     "execution_count": 12,
     "metadata": {},
     "output_type": "execute_result"
    }
   ],
   "source": [
    "REGULAR_FONT_TYPE, REGULAR_FONT_SIZE"
   ]
  },
  {
   "cell_type": "markdown",
   "metadata": {},
   "source": [
    "# Процессинг документа (первичный)"
   ]
  },
  {
   "cell_type": "code",
   "execution_count": 13,
   "metadata": {},
   "outputs": [],
   "source": [
    "PAR_MARGIN = None  # могли бы захардкодить, если бы знали заранее"
   ]
  },
  {
   "cell_type": "code",
   "execution_count": null,
   "metadata": {},
   "outputs": [],
   "source": []
  },
  {
   "cell_type": "code",
   "execution_count": 14,
   "metadata": {},
   "outputs": [],
   "source": [
    "class State(Enum):\n",
    "    NEUTRAL = 0\n",
    "    PARAGRAPH = 1\n",
    "\n",
    "cur_state = State[\"NEUTRAL\"]"
   ]
  },
  {
   "cell_type": "code",
   "execution_count": null,
   "metadata": {},
   "outputs": [],
   "source": []
  },
  {
   "cell_type": "code",
   "execution_count": 18,
   "metadata": {},
   "outputs": [],
   "source": [
    "def process_line(line, cur_state):\n",
    "    global PAR_MARGIN\n",
    "    if cur_state == State[\"NEUTRAL\"]:\n",
    "        if line.margin_left == MIN_MARGIN:\n",
    "            label = '?' # something strange\n",
    "            new_state = State[\"NEUTRAL\"]\n",
    "        else:\n",
    "            # hopefully start of a paragraph\n",
    "            if ((PAR_MARGIN is None and line.margin_left in lens[:6]) \\\n",
    "                or line.margin_left == PAR_MARGIN) and line.font_size == REGULAR_FONT_SIZE:\n",
    "                if PAR_MARGIN is None:\n",
    "                    PAR_MARGIN = line.margin_left\n",
    "                label = 'A' # paragraph starts\n",
    "                new_state = State[\"PARAGRAPH\"]\n",
    "            # введение\n",
    "            #elif PAR_MARGIN is None and line.font_type != ...\n",
    "            else:\n",
    "                label = '?' # something strange\n",
    "                new_state = State[\"NEUTRAL\"]\n",
    "    \n",
    "    elif cur_state == State[\"PARAGRAPH\"]:\n",
    "        if line.margin_left == PAR_MARGIN:\n",
    "            label = 'A' # paragraph starts\n",
    "            new_state = State[\"PARAGRAPH\"]\n",
    "        elif line.margin_left == MIN_MARGIN:\n",
    "            label = 'B' # paragraph continues\n",
    "            new_state = State[\"PARAGRAPH\"]\n",
    "        else:\n",
    "            # header, list or other\n",
    "            if line.font_type != REGULAR_FONT_TYPE:\n",
    "                label = 'C' # header\n",
    "                new_state = State[\"NEUTRAL\"]\n",
    "            else:\n",
    "                # TODO: find features for lists\n",
    "                label = '?' # something strange\n",
    "                new_state = State[\"PARAGRAPH\"]\n",
    "    \n",
    "    return label, new_state"
   ]
  },
  {
   "cell_type": "code",
   "execution_count": null,
   "metadata": {},
   "outputs": [],
   "source": []
  },
  {
   "cell_type": "code",
   "execution_count": null,
   "metadata": {},
   "outputs": [],
   "source": []
  },
  {
   "cell_type": "code",
   "execution_count": null,
   "metadata": {},
   "outputs": [],
   "source": []
  },
  {
   "cell_type": "code",
   "execution_count": null,
   "metadata": {},
   "outputs": [],
   "source": []
  },
  {
   "cell_type": "code",
   "execution_count": 21,
   "metadata": {},
   "outputs": [],
   "source": [
    "def write_labeled(output_file_name=None):\n",
    "    if output_file_name is None:\n",
    "        output_file_name = structure_file_name[:-5] + '_l' + structure_file_name[-5:]\n",
    "    with open(output_file_name, 'w', encoding='utf8') as output:\n",
    "        cur_state = State[\"NEUTRAL\"]\n",
    "        PAR_MARGIN = None # могли бы захардкодить, если бы знали заранее\n",
    "\n",
    "        for line in data:\n",
    "            label, cur_state = process_line(line, cur_state)\n",
    "            line_export = list(line[:6])\n",
    "            line_export.append(label)\n",
    "            line_export.append(line[-1])\n",
    "            \n",
    "            line_export = ':'.join([str(y) for y in line_export])\n",
    "            output.write(f'{line_export}\\n')"
   ]
  },
  {
   "cell_type": "code",
   "execution_count": 22,
   "metadata": {},
   "outputs": [],
   "source": [
    "write_labeled()"
   ]
  },
  {
   "cell_type": "code",
   "execution_count": null,
   "metadata": {},
   "outputs": [],
   "source": []
  },
  {
   "cell_type": "code",
   "execution_count": null,
   "metadata": {},
   "outputs": [],
   "source": []
  },
  {
   "cell_type": "code",
   "execution_count": null,
   "metadata": {},
   "outputs": [],
   "source": []
  },
  {
   "cell_type": "code",
   "execution_count": null,
   "metadata": {},
   "outputs": [],
   "source": []
  }
 ],
 "metadata": {
  "kernelspec": {
   "display_name": "Python 3",
   "language": "python",
   "name": "python3"
  },
  "language_info": {
   "codemirror_mode": {
    "name": "ipython",
    "version": 3
   },
   "file_extension": ".py",
   "mimetype": "text/x-python",
   "name": "python",
   "nbconvert_exporter": "python",
   "pygments_lexer": "ipython3",
   "version": "3.7.1"
  }
 },
 "nbformat": 4,
 "nbformat_minor": 2
}
