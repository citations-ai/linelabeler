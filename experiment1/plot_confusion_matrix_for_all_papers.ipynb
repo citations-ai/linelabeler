{
 "cells": [
  {
   "cell_type": "code",
   "execution_count": 1,
   "metadata": {},
   "outputs": [],
   "source": [
    "import numpy as np\n",
    "import matplotlib.pyplot as plt\n",
    "\n",
    "from sklearn.metrics import confusion_matrix\n",
    "from sklearn.utils.multiclass import unique_labels\n",
    "\n",
    "from collections import defaultdict\n",
    "\n",
    "def plot_confusion_matrices(y_true, y_pred, classes,\n",
    "                          title=None,\n",
    "                          cmap=plt.cm.Blues):\n",
    "    \"\"\"\n",
    "    This function prints and plots the confusion matrix.\n",
    "    Normalization can be applied by setting `normalize=True`.\n",
    "    \"\"\"\n",
    "    if not title:\n",
    "        title = 'Confusion matrix'\n",
    "            \n",
    "    cm1 = confusion_matrix(y_true, y_pred)\n",
    "    cm2 = cm1.astype('float') / cm1.sum(axis=1)[:, np.newaxis]\n",
    "    \n",
    "    fig, (ax2) = plt.subplots(1, 1, figsize=(6, 6))\n",
    "    #fig.suptitle('Horizontally stacked subplots')\n",
    "    \"\"\"\n",
    "    im1 = ax1.imshow(cm1, interpolation='nearest', cmap=cmap)\n",
    "    #ax1.figure.colorbar(im1, ax=ax1)\n",
    "    # We want to show all ticks...\n",
    "    ax1.set(xticks=np.arange(cm1.shape[1]),\n",
    "           yticks=np.arange(cm2.shape[0]),\n",
    "           # ... and label them with the respective list entries\n",
    "           xticklabels=classes, yticklabels=classes,\n",
    "           title=title,\n",
    "           ylabel='True label',\n",
    "           xlabel='Predicted label')\n",
    "\n",
    "    # Rotate the tick labels and set their alignment.\n",
    "    plt.setp(ax1.get_xticklabels(), rotation=45, ha=\"right\",\n",
    "             rotation_mode=\"anchor\")\n",
    "    \n",
    "    # Loop over data dimensions and create text annotations.\n",
    "    fmt = 'd'\n",
    "    thresh = cm1.max() / 2.\n",
    "    for i in range(cm1.shape[0]):\n",
    "        for j in range(cm1.shape[1]):\n",
    "            ax1.text(j, i, format(cm1[i, j], fmt),\n",
    "                    ha=\"center\", va=\"center\",\n",
    "                    color=\"white\" if cm1[i, j] > thresh else \"black\")\n",
    "    \"\"\"\n",
    "    im2 = ax2.imshow(cm2, interpolation='nearest', cmap=cmap)\n",
    "    #ax2.figure.colorbar(im2, ax=ax2)\n",
    "    # We want to show all ticks...\n",
    "    ax2.set(xticks=np.arange(cm2.shape[1]),\n",
    "           yticks=np.arange(cm2.shape[0]),\n",
    "           # ... and label them with the respective list entries\n",
    "           xticklabels=classes, yticklabels=classes,\n",
    "           title=title,\n",
    "           ylabel='True label',\n",
    "           xlabel='Predicted label')\n",
    "\n",
    "    # Rotate the tick labels and set their alignment.\n",
    "    plt.setp(ax2.get_xticklabels(), rotation=0, ha=\"right\",\n",
    "             rotation_mode=\"anchor\")\n",
    "\n",
    "    # Loop over data dimensions and create text annotations.\n",
    "    fmt = '.2f'\n",
    "    thresh = cm2.max() / 2.\n",
    "    for i in range(cm2.shape[0]):\n",
    "        for j in range(cm2.shape[1]):\n",
    "            ax2.text(j, i, format(cm2[i, j], fmt),\n",
    "                    ha=\"center\", va=\"center\",\n",
    "                    color=\"white\" if cm2[i, j] > thresh else \"black\")\n",
    "    \n",
    "    #\"\"\"\n",
    "    fig.tight_layout()\n",
    "    #return cm1\n",
    "    #return ax1, ax2"
   ]
  },
  {
   "cell_type": "code",
   "execution_count": null,
   "metadata": {},
   "outputs": [],
   "source": []
  },
  {
   "cell_type": "code",
   "execution_count": 2,
   "metadata": {},
   "outputs": [],
   "source": [
    "import os"
   ]
  },
  {
   "cell_type": "code",
   "execution_count": null,
   "metadata": {},
   "outputs": [],
   "source": []
  },
  {
   "cell_type": "code",
   "execution_count": 3,
   "metadata": {},
   "outputs": [],
   "source": [
    "def get_labels(paper_id):\n",
    "    \"\"\"9:272:21487:20:32:90:279:143:12:Times New Roman:12:Times New Roman:B:administrative identification numbers.\"\"\"\n",
    "    #print(os.listdir(f'{paper_id}'))\n",
    "    \n",
    "    gt_lines = dict()\n",
    "    with open(f'{paper_id}/{paper_id}:gt.txt', encoding='utf8') as f:\n",
    "        for l in f:\n",
    "            #try:\n",
    "                l = l.split(':')\n",
    "                line_id, line_label, line_text = l[1], l[12], ':'.join(l[13:])\n",
    "                if not len(line_text.strip()):\n",
    "                    continue\n",
    "                gt_lines[line_id] = line_label\n",
    "            #except:\n",
    "            #    pass\n",
    "    pr_lines = dict()\n",
    "    with open(f'{paper_id}/{paper_id}:l.txt', encoding='utf8') as f:\n",
    "        for l in f:\n",
    "            #try:\n",
    "                l = l.split(':')\n",
    "                line_id, line_label = l[1], l[12]\n",
    "                pr_lines[line_id] = line_label\n",
    "            #except:\n",
    "            #    pass\n",
    "    y_true = list(gt_lines.values())\n",
    "    y_pred = list(pr_lines[line_id] for line_id in gt_lines.keys())\n",
    "    \n",
    "    return y_true, y_pred"
   ]
  },
  {
   "cell_type": "code",
   "execution_count": 4,
   "metadata": {},
   "outputs": [],
   "source": [
    "def stats_papers(paper_ids):\n",
    "    y_test, y_pred = [], []\n",
    "    \n",
    "    for paper_id in paper_ids:\n",
    "        y_test_, y_pred_ = get_labels(paper_id)\n",
    "        y_test.extend(y_test_)\n",
    "        y_pred.extend(y_pred_)\n",
    "    \n",
    "    ddmap = defaultdict(int)\n",
    "    ddmap['C'] = 1\n",
    "    ddmap['A'] = 2\n",
    "    ddmap['B'] = 3\n",
    "    \n",
    "    y_test = np.array(list(map(lambda x: ddmap[x], y_test)))\n",
    "    y_pred = np.array(list(map(lambda x: ddmap[x], y_pred)))\n",
    "    \n",
    "    class_names = ddmap\n",
    "    \n",
    "    \n",
    "    np.set_printoptions(precision=2)\n",
    "\n",
    "    #fig, (ax1, ax2) = plt.subplots(1, 2)\n",
    "    #fig.suptitle('Horizontally stacked subplots')\n",
    "    \n",
    "    #ax1.plot(plot_confusion_matrix(y_test, y_pred, class_names, normalize=False, title=None, cmap=plt.cm.Blues))\n",
    "    #ax2.plot(plot_confusion_matrix(y_test, y_pred, class_names, normalize=True, title=None, cmap=plt.cm.Blues))\n",
    "    \n",
    "    \n",
    "    plot_confusion_matrices(y_test, y_pred, classes=['Other', 'Header', 'Par.st.', 'Par.co.'],\n",
    "                          title=f'Confusion matrix for all papers')\n",
    "    \n",
    "    #plot_confusion_matrix(y_test, y_pred, classes=['O', 'H', 'S', 'C'], normalize=True,\n",
    "    #                      title=f'Conf. matrix {paper_id}\\n(normalized)')\n",
    "\n",
    "    #plt.show()\n",
    "    \n",
    "    plt.savefig(f'cm_all.png')"
   ]
  },
  {
   "cell_type": "code",
   "execution_count": 32,
   "metadata": {
    "scrolled": true
   },
   "outputs": [
    {
     "data": {
      "image/png": "[encoded data removed]",
      "text/plain": [
       "<Figure size 432x432 with 1 Axes>"
      ]
     },
     "metadata": {
      "needs_background": "light"
     },
     "output_type": "display_data"
    }
   ],
   "source": [
    "stats_papers(['repec:nbr:nberwo:8269', \n",
    "              'repec:nbr:nberwo:8918', \n",
    "              'repec:nbr:nberwo:9413', \n",
    "              'repec:nbr:nberwo:15174', \n",
    "              'repec:nbr:nberwo:19035',\n",
    "              'repec:nbr:nberwo:19979',\n",
    "              'repec:nbr:nberwo:20867', \n",
    "              'repec:nbr:nberwo:21592'\n",
    "             ])"
   ]
  },
  {
   "cell_type": "code",
   "execution_count": null,
   "metadata": {},
   "outputs": [],
   "source": []
  },
  {
   "cell_type": "code",
   "execution_count": null,
   "metadata": {},
   "outputs": [],
   "source": []
  },
  {
   "cell_type": "code",
   "execution_count": null,
   "metadata": {},
   "outputs": [],
   "source": []
  },
  {
   "cell_type": "code",
   "execution_count": null,
   "metadata": {},
   "outputs": [],
   "source": []
  },
  {
   "cell_type": "code",
   "execution_count": null,
   "metadata": {},
   "outputs": [],
   "source": []
  }
 ],
 "metadata": {
  "kernelspec": {
   "display_name": "Python 3",
   "language": "python",
   "name": "python3"
  },
  "language_info": {
   "codemirror_mode": {
    "name": "ipython",
    "version": 3
   },
   "file_extension": ".py",
   "mimetype": "text/x-python",
   "name": "python",
   "nbconvert_exporter": "python",
   "pygments_lexer": "ipython3",
   "version": "3.7.1"
  }
 },
 "nbformat": 4,
 "nbformat_minor": 2
}
