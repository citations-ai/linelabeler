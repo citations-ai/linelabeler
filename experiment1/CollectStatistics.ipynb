{
 "cells": [
  {
   "cell_type": "code",
   "execution_count": 10,
   "metadata": {},
   "outputs": [],
   "source": [
    "import os\n",
    "\n",
    "from collections import namedtuple, defaultdict\n",
    "import numpy as np\n",
    "from enum import Enum\n",
    "\n",
    "\n",
    "class State(Enum):\n",
    "    NEUTRAL = 0\n",
    "    PARAGRAPH = 1\n",
    "    BUKVITSA = 2\n",
    "\n",
    "class Label(Enum):\n",
    "    PAR_STARTS = 'A'\n",
    "    PAR_CONTINUES = 'B'\n",
    "    HEADER = 'C'\n",
    "    BUKVITSA = 'D'\n",
    "    LIST = 'E'\n",
    "    FOOTNOTE = 'F'\n",
    "    OTHER = '?'"
   ]
  },
  {
   "cell_type": "code",
   "execution_count": 42,
   "metadata": {},
   "outputs": [],
   "source": [
    "results = []\n",
    "for paper in os.listdir():\n",
    "    if not paper.startswith('repec:'):\n",
    "        continue\n",
    "    text_l = os.path.join(paper, paper + ':l.txt')\n",
    "    try:\n",
    "        paragraph_counter, header_counter, header_stack = collect(text_l)\n",
    "\n",
    "        #repec:nbr:nberwo:14176; 118; 28; 125 ( ); 185 ( II. Institutional Detail and Conceptual Framework a. Institutional Background ); 280 (); ...\n",
    "        prefix_part = ';'.join([paper, str(paragraph_counter), str(header_counter)])\n",
    "        main_part = ';'.join(list(map(lambda x: f'{x[0]}[[{x[1]}]]', header_stack)))\n",
    "        res = ';'.join([prefix_part, main_part]) + '\\n'\n",
    "        results.append(res)\n",
    "    except:\n",
    "        pass\n",
    "with open('results.txt', 'w') as f:\n",
    "    f.writelines(results)"
   ]
  },
  {
   "cell_type": "code",
   "execution_count": 37,
   "metadata": {},
   "outputs": [],
   "source": [
    "def collect(path):\n",
    "    paragraph_counter = 0\n",
    "    header_counter = 0\n",
    "    \n",
    "    header_stack = []\n",
    "    is_prev_header = False\n",
    "    cur_header = ''\n",
    "    cur_number = -1\n",
    "    \n",
    "    with open(path) as f:\n",
    "        \"\"\"\n",
    "        3:44:2184:25:26:267:347:634:122:g_d0_f6:122:g_d0_f6:C:I. INTRODUCTION\n",
    "        pn 3\n",
    "        ln 44\n",
    "        fs 2184\n",
    "        ip 25\n",
    "        in 26\n",
    "        hl 267\n",
    "        hr 347\n",
    "        v 634\n",
    "        f0 122\n",
    "        s0 g_d0_f6\n",
    "        f1 122\n",
    "        s1 g_d0_f6\n",
    "        LABEL C\n",
    "        tx I. INTRODUCTION\n",
    "        \"\"\"\n",
    "        for line in f:\n",
    "            data = line.split(':')\n",
    "            line_number = data[1]\n",
    "            label = data[12]\n",
    "            text = ':'.join(data[13:]).replace(\"\\n\", \"\")\n",
    "            if label == Label[\"PAR_STARTS\"].value:\n",
    "                paragraph_counter += 1\n",
    "            if label == Label[\"HEADER\"].value:\n",
    "                if is_prev_header:\n",
    "                    cur_header += r'@@' + text\n",
    "                else:\n",
    "                    cur_header = text\n",
    "                    cur_number = line_number\n",
    "                is_prev_header = True\n",
    "            else:\n",
    "                if is_prev_header:\n",
    "                    header_stack.append((cur_number, cur_header))\n",
    "                is_prev_header = False\n",
    "        if is_prev_header:\n",
    "            header_stack.append((cur_number, cur_header))\n",
    "    header_counter = len(header_stack)\n",
    "    return paragraph_counter, header_counter, header_stack"
   ]
  },
  {
   "cell_type": "code",
   "execution_count": null,
   "metadata": {},
   "outputs": [],
   "source": []
  },
  {
   "cell_type": "code",
   "execution_count": null,
   "metadata": {},
   "outputs": [],
   "source": []
  }
 ],
 "metadata": {
  "kernelspec": {
   "display_name": "Python 3",
   "language": "python",
   "name": "python3"
  },
  "language_info": {
   "codemirror_mode": {
    "name": "ipython",
    "version": 3
   },
   "file_extension": ".py",
   "mimetype": "text/x-python",
   "name": "python",
   "nbconvert_exporter": "python",
   "pygments_lexer": "ipython3",
   "version": "3.7.1"
  }
 },
 "nbformat": 4,
 "nbformat_minor": 2
}
