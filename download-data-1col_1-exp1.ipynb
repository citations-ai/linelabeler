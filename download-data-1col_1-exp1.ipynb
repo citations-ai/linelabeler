{
 "cells": [
  {
   "cell_type": "code",
   "execution_count": 1,
   "metadata": {},
   "outputs": [],
   "source": [
    "from urllib.request import urlopen\n",
    "from html.parser import HTMLParser\n",
    "import os\n",
    "import wget"
   ]
  },
  {
   "cell_type": "code",
   "execution_count": 2,
   "metadata": {},
   "outputs": [],
   "source": [
    "class MyHTMLParser(HTMLParser):\n",
    "    def __init__(self, predicate):\n",
    "        super().__init__()\n",
    "        self.journals = []\n",
    "        self.state = False\n",
    "        self.predicate = predicate\n",
    "        \n",
    "    def handle_starttag(self, tag, attrs):\n",
    "        self.state = tag == 'a'\n",
    "        \n",
    "    def handle_data(self, data):\n",
    "        text = data.strip()\n",
    "        if self.state and len(text) > 0 and self.predicate(text):\n",
    "            self.journals.append(data)\n",
    "\n",
    "class PDFHTMLParser(HTMLParser):\n",
    "    def __init__(self, predicate):\n",
    "        super().__init__()\n",
    "        self.journals = []\n",
    "        self.predicate = predicate\n",
    "        \n",
    "    def handle_data(self, data):\n",
    "        text = data.strip()\n",
    "        if self.predicate(text):\n",
    "            self.journals.append(data)"
   ]
  },
  {
   "cell_type": "markdown",
   "metadata": {},
   "source": [
    "# Выгружение всех журналов"
   ]
  },
  {
   "cell_type": "code",
   "execution_count": 3,
   "metadata": {},
   "outputs": [],
   "source": [
    "url_root = \"https://socionet.ru/~cyrcitec/newr-nbr/nberwo/\"\n",
    "html_root = urlopen(url_root).read().decode()\n",
    "\n",
    "journals_catalogue = MyHTMLParser(lambda x: x.endswith('.xml'))\n",
    "journals_catalogue.feed(html_root)"
   ]
  },
  {
   "cell_type": "code",
   "execution_count": 4,
   "metadata": {},
   "outputs": [],
   "source": [
    "xml_root = \"http://no-xml.socionet.ru/~cyrcitec/newr-nbr/nberwo/\""
   ]
  },
  {
   "cell_type": "code",
   "execution_count": 5,
   "metadata": {},
   "outputs": [
    {
     "data": {
      "text/plain": [
       "23173"
      ]
     },
     "execution_count": 5,
     "metadata": {},
     "output_type": "execute_result"
    }
   ],
   "source": [
    "len(journals_catalogue.journals)"
   ]
  },
  {
   "cell_type": "code",
   "execution_count": 6,
   "metadata": {},
   "outputs": [],
   "source": [
    "from lxml import etree"
   ]
  },
  {
   "cell_type": "code",
   "execution_count": 7,
   "metadata": {},
   "outputs": [],
   "source": [
    "def parseXML(xml):\n",
    "    \"\"\"\n",
    "    Парсинг XML\n",
    "    \"\"\"\n",
    "    handle, pdf_link, json_link = None, None, None\n",
    "    \n",
    "    if xml.decode().count('\\n') <= 17:\n",
    "        return handle, pdf_link, json_link\n",
    "    root = etree.fromstring(xml)\n",
    "    \n",
    "    for appt in root.getchildren():\n",
    "        handle = appt.attrib.get('handle') \n",
    "        for elem in appt.getchildren():\n",
    "            if elem.text:\n",
    "                json_link = elem.attrib.get('rich')\n",
    "                for t in elem:\n",
    "                    pdf_link = t.attrib.get('data')\n",
    "    return handle, pdf_link, json_link"
   ]
  },
  {
   "cell_type": "code",
   "execution_count": 8,
   "metadata": {},
   "outputs": [
    {
     "data": {
      "text/plain": [
       "('repec:nbr:nberwo:0005',\n",
       " 'http://no-xml.socionet.ru/~cyrcitec/pdf-cache/www.nber.org/papers/w0005.pdf',\n",
       " 'http://no-xml.socionet.ru/~cyrcitec/j-nbr/nberwo/0005.json')"
      ]
     },
     "execution_count": 8,
     "metadata": {},
     "output_type": "execute_result"
    }
   ],
   "source": [
    "parseXML(urlopen(''.join([xml_root, journals_catalogue.journals[3]])).read())"
   ]
  },
  {
   "cell_type": "markdown",
   "metadata": {},
   "source": [
    "# Из каждого журнала выбираем статью (например, первую) и ищем для нее PDF"
   ]
  },
  {
   "cell_type": "code",
   "execution_count": 9,
   "metadata": {},
   "outputs": [],
   "source": [
    "try:\n",
    "    os.mkdir('experiment1')\n",
    "except:\n",
    "    pass"
   ]
  },
  {
   "cell_type": "code",
   "execution_count": 10,
   "metadata": {},
   "outputs": [],
   "source": [
    "url_prefix = \"http://no-xml.socionet.ru/~cyrcitec/\"\n",
    "url_prefix_len = len(url_prefix)"
   ]
  },
  {
   "cell_type": "code",
   "execution_count": 26,
   "metadata": {},
   "outputs": [],
   "source": [
    "import numpy as np\n",
    "np.random.seed(42)"
   ]
  },
  {
   "cell_type": "code",
   "execution_count": 12,
   "metadata": {},
   "outputs": [],
   "source": [
    "to_test = [\n",
    "    '22986.xml', '20867.xml', '15174.xml', '21592.xml', '9413.xml', '7798.xml', '8918.xml', \n",
    "    '7131.xml', '8269.xml', '19862.xml', '19035.xml', '14176.xml', '19979.xml']"
   ]
  },
  {
   "cell_type": "code",
   "execution_count": 13,
   "metadata": {},
   "outputs": [
    {
     "name": "stdout",
     "output_type": "stream",
     "text": [
      "22986.xml\n",
      "repec:nbr:nberwo:22986 http://no-xml.socionet.ru/~cyrcitec/pdf-cache/www.nber.org/papers/w22986.pdf http://no-xml.socionet.ru/~cyrcitec/j-nbr/nberwo/22986.json\n",
      "20867.xml\n",
      "repec:nbr:nberwo:20867 http://no-xml.socionet.ru/~cyrcitec/pdf-cache/www.nber.org/papers/w20867.pdf http://no-xml.socionet.ru/~cyrcitec/j-nbr/nberwo/20867.json\n",
      "15174.xml\n",
      "repec:nbr:nberwo:15174 http://no-xml.socionet.ru/~cyrcitec/pdf-cache/www.nber.org/papers/w15174.pdf http://no-xml.socionet.ru/~cyrcitec/j-nbr/nberwo/15174.json\n",
      "21592.xml\n",
      "repec:nbr:nberwo:21592 http://no-xml.socionet.ru/~cyrcitec/pdf-cache/www.nber.org/papers/w21592.pdf http://no-xml.socionet.ru/~cyrcitec/j-nbr/nberwo/21592.json\n",
      "9413.xml\n",
      "repec:nbr:nberwo:9413 http://no-xml.socionet.ru/~cyrcitec/pdf-cache/www.nber.org/papers/w9413.pdf http://no-xml.socionet.ru/~cyrcitec/j-nbr/nberwo/9413.json\n",
      "7798.xml\n",
      "None None None\n",
      "8918.xml\n",
      "repec:nbr:nberwo:8918 http://no-xml.socionet.ru/~cyrcitec/pdf-cache/www.nber.org/papers/w8918.pdf http://no-xml.socionet.ru/~cyrcitec/j-nbr/nberwo/8918.json\n",
      "7131.xml\n",
      "repec:nbr:nberwo:7131 http://no-xml.socionet.ru/~cyrcitec/pdf-cache/www.nber.org/papers/w7131.pdf http://no-xml.socionet.ru/~cyrcitec/j-nbr/nberwo/7131.json\n",
      "8269.xml\n",
      "repec:nbr:nberwo:8269 http://no-xml.socionet.ru/~cyrcitec/pdf-cache/www.nber.org/papers/w8269.pdf http://no-xml.socionet.ru/~cyrcitec/j-nbr/nberwo/8269.json\n",
      "19862.xml\n",
      "repec:nbr:nberwo:19862 http://no-xml.socionet.ru/~cyrcitec/pdf-cache/www.nber.org/papers/w19862.pdf http://no-xml.socionet.ru/~cyrcitec/j-nbr/nberwo/19862.json\n",
      "19035.xml\n",
      "repec:nbr:nberwo:19035 http://no-xml.socionet.ru/~cyrcitec/pdf-cache/www.nber.org/papers/w19035.pdf http://no-xml.socionet.ru/~cyrcitec/j-nbr/nberwo/19035.json\n",
      "14176.xml\n",
      "repec:nbr:nberwo:14176 http://no-xml.socionet.ru/~cyrcitec/pdf-cache/www.nber.org/papers/w14176.pdf http://no-xml.socionet.ru/~cyrcitec/j-nbr/nberwo/14176.json\n",
      "19979.xml\n",
      "repec:nbr:nberwo:19979 http://no-xml.socionet.ru/~cyrcitec/pdf-cache/www.nber.org/papers/w19979.pdf http://no-xml.socionet.ru/~cyrcitec/j-nbr/nberwo/19979.json\n"
     ]
    }
   ],
   "source": [
    "for journal in to_test:\n",
    "    print(journal)\n",
    "    try:\n",
    "        journal_id, journal_link_pdf, journal_link_json = parseXML(urlopen(''.join([xml_root, journal])).read())\n",
    "        print(journal_id, journal_link_pdf, journal_link_json)\n",
    "        if (journal_id is None) or (journal_link_pdf is None) or (journal_link_json is None):\n",
    "            continue\n",
    "    except:\n",
    "        continue\n",
    "    \n",
    "    try:\n",
    "        os.mkdir(f'experiment1/{journal_id}')\n",
    "    except:\n",
    "        pass\n",
    "    try:\n",
    "        wget.download(journal_link_pdf, out=f'experiment1/{journal_id}/{journal_id}:orig.pdf')\n",
    "    except:\n",
    "        pass\n",
    "    try:\n",
    "        # http://no-xml.socionet.ru/~cyrcitec/jfmt.cgi?file=j-nbr/nberwo/0011.json\n",
    "        wget.download(f\"{url_prefix}jfmt.cgi?file={journal_link_json[url_prefix_len:]}\", \n",
    "                      out=f'experiment1/{journal_id}/{journal_id}:orig.txt')\n",
    "    except:\n",
    "        pass\n",
    "    "
   ]
  },
  {
   "cell_type": "code",
   "execution_count": null,
   "metadata": {},
   "outputs": [],
   "source": []
  }
 ],
 "metadata": {
  "kernelspec": {
   "display_name": "Python 3",
   "language": "python",
   "name": "python3"
  },
  "language_info": {
   "codemirror_mode": {
    "name": "ipython",
    "version": 3
   },
   "file_extension": ".py",
   "mimetype": "text/x-python",
   "name": "python",
   "nbconvert_exporter": "python",
   "pygments_lexer": "ipython3",
   "version": "3.7.1"
  }
 },
 "nbformat": 4,
 "nbformat_minor": 2
}
